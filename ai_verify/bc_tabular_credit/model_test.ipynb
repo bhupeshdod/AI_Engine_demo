{
 "cells": [
  {
   "cell_type": "code",
   "execution_count": 4,
   "metadata": {},
   "outputs": [
    {
     "name": "stdout",
     "output_type": "stream",
     "text": [
      "Credit Pipeline: Pipeline(steps=[('feature_engineering',\n",
      "                 <creditCustomClass.featureEngineeringStage object at 0x7a4332fd6200>),\n",
      "                ('prediction_model', LogisticRegression(multi_class='auto'))])\n"
     ]
    },
    {
     "name": "stderr",
     "output_type": "stream",
     "text": [
      "/home/codespace/.local/lib/python3.10/site-packages/sklearn/base.py:376: InconsistentVersionWarning: Trying to unpickle estimator LogisticRegression from version 1.2.2 when using version 1.5.0. This might lead to breaking code or invalid results. Use at your own risk. For more info please refer to:\n",
      "https://scikit-learn.org/stable/model_persistence.html#security-maintainability-limitations\n",
      "  warnings.warn(\n",
      "/home/codespace/.local/lib/python3.10/site-packages/sklearn/base.py:376: InconsistentVersionWarning: Trying to unpickle estimator Pipeline from version 1.2.2 when using version 1.5.0. This might lead to breaking code or invalid results. Use at your own risk. For more info please refer to:\n",
      "https://scikit-learn.org/stable/model_persistence.html#security-maintainability-limitations\n",
      "  warnings.warn(\n"
     ]
    }
   ],
   "source": [
    "import joblib\n",
    "import pandas as pd\n",
    "\n",
    "# Import the custom class\n",
    "from creditCustomClass import featureEngineeringStage\n",
    "\n",
    "# Load the pipeline\n",
    "credit_pipeline_path = 'sample_bc_credit_sklearn_linear.Pipeline.sav'\n",
    "credit_pipeline = joblib.load(credit_pipeline_path)\n",
    "\n",
    "# Display the pipeline structure\n",
    "print(\"Credit Pipeline:\", credit_pipeline)\n"
   ]
  },
  {
   "cell_type": "code",
   "execution_count": 5,
   "metadata": {},
   "outputs": [
    {
     "name": "stdout",
     "output_type": "stream",
     "text": [
      "regression Pipeline: Pipeline(steps=[('feature_engineering',\n",
      "                 <regressionCustomClass.featureEngineeringStage object at 0x7a4314b29b10>),\n",
      "                ('prediction_model', LogisticRegression(multi_class='auto'))])\n"
     ]
    },
    {
     "name": "stderr",
     "output_type": "stream",
     "text": [
      "/home/codespace/.local/lib/python3.10/site-packages/sklearn/base.py:376: InconsistentVersionWarning: Trying to unpickle estimator LogisticRegression from version 1.2.2 when using version 1.5.0. This might lead to breaking code or invalid results. Use at your own risk. For more info please refer to:\n",
      "https://scikit-learn.org/stable/model_persistence.html#security-maintainability-limitations\n",
      "  warnings.warn(\n",
      "/home/codespace/.local/lib/python3.10/site-packages/sklearn/base.py:376: InconsistentVersionWarning: Trying to unpickle estimator Pipeline from version 1.2.2 when using version 1.5.0. This might lead to breaking code or invalid results. Use at your own risk. For more info please refer to:\n",
      "https://scikit-learn.org/stable/model_persistence.html#security-maintainability-limitations\n",
      "  warnings.warn(\n"
     ]
    }
   ],
   "source": [
    "import joblib\n",
    "import pandas as pd\n",
    "\n",
    "# Import the custom class\n",
    "from regressionCustomClass import featureEngineeringStage\n",
    "\n",
    "# Load the regression pipeline\n",
    "regression_pipeline_path = 'sample_reg_donation_sklearn_linear.Pipeline.sav'\n",
    "regression_pipeline = joblib.load(regression_pipeline_path)\n",
    "\n",
    "# Display the pipeline structure\n",
    "print(\"regression Pipeline:\", regression_pipeline)\n"
   ]
  }
 ],
 "metadata": {
  "kernelspec": {
   "display_name": "Python 3",
   "language": "python",
   "name": "python3"
  },
  "language_info": {
   "codemirror_mode": {
    "name": "ipython",
    "version": 3
   },
   "file_extension": ".py",
   "mimetype": "text/x-python",
   "name": "python",
   "nbconvert_exporter": "python",
   "pygments_lexer": "ipython3",
   "version": "3.10.13"
  }
 },
 "nbformat": 4,
 "nbformat_minor": 2
}
