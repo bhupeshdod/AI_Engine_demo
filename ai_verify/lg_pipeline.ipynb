{
 "cells": [
  {
   "cell_type": "code",
   "execution_count": 10,
   "metadata": {},
   "outputs": [
    {
     "name": "stdout",
     "output_type": "stream",
     "text": [
      "NaN values in the dataset before preprocessing: 0\n",
      "Test accuracy: 0.9883720930232558\n"
     ]
    }
   ],
   "source": [
    "import numpy as np\n",
    "import pandas as pd\n",
    "from sklearn.linear_model import LogisticRegression\n",
    "from sklearn.pipeline import Pipeline\n",
    "from sklearn.model_selection import train_test_split\n",
    "import joblib\n",
    "from preprocess import DataPreprocessor\n",
    "\n",
    "# Load the dataset\n",
    "data_path = 'data.csv'  # Ensure this path is correct\n",
    "data = pd.read_csv(data_path)\n",
    "\n",
    "# Drop unnecessary columns\n",
    "data.drop(['Unnamed: 32', 'id'], axis=1, inplace=True)\n",
    "\n",
    "# Encode diagnosis column: 1 for Malignant, 0 for Benign\n",
    "data['diagnosis'] = data['diagnosis'].apply(lambda x: 1 if x == \"M\" else 0)\n",
    "\n",
    "# Extract features and labels\n",
    "X = data.drop('diagnosis', axis=1)\n",
    "y = data['diagnosis'].values\n",
    "\n",
    "# Check for NaN values\n",
    "print(\"NaN values in the dataset before preprocessing:\", X.isna().sum().sum())\n",
    "\n",
    "# Split the data into training and test sets\n",
    "X_train, X_test, y_train, y_test = train_test_split(X, y, test_size=0.15, random_state=42)\n",
    "\n",
    "# Create the pipeline\n",
    "pipeline = Pipeline([\n",
    "    ('preprocessor', DataPreprocessor()),\n",
    "    ('log_reg', LogisticRegression(max_iter=1000, class_weight='balanced'))\n",
    "])\n",
    "\n",
    "# Train the model\n",
    "pipeline.fit(X_train, y_train)\n",
    "\n",
    "# Save the pipeline to model_lg.sav\n",
    "joblib.dump(pipeline, 'model_lg.sav')\n",
    "\n",
    "# Evaluate the model\n",
    "test_score = pipeline.score(X_test, y_test)\n",
    "print(f'Test accuracy: {test_score}')\n"
   ]
  }
 ],
 "metadata": {
  "kernelspec": {
   "display_name": "Python 3",
   "language": "python",
   "name": "python3"
  },
  "language_info": {
   "codemirror_mode": {
    "name": "ipython",
    "version": 3
   },
   "file_extension": ".py",
   "mimetype": "text/x-python",
   "name": "python",
   "nbconvert_exporter": "python",
   "pygments_lexer": "ipython3",
   "version": "3.10.13"
  }
 },
 "nbformat": 4,
 "nbformat_minor": 2
}
